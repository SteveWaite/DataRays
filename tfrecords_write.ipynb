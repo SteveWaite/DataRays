{
 "cells": [
  {
   "cell_type": "code",
   "execution_count": 1,
   "id": "painful-brighton",
   "metadata": {},
   "outputs": [],
   "source": [
    "import os\n",
    "import argparse\n",
    "import shutil\n",
    "from tqdm import tqdm\n",
    "import pandas as pd\n",
    "\n",
    "# Silence TensorFlow messages\n",
    "os.environ['TF_CPP_MIN_LOG_LEVEL']='3'\n",
    "import tensorflow as tf\n",
    "import numpy as np\n",
    "import PIL"
   ]
  },
  {
   "cell_type": "code",
   "execution_count": 2,
   "id": "macro-palestine",
   "metadata": {},
   "outputs": [
    {
     "name": "stdout",
     "output_type": "stream",
     "text": [
      " The current working directory After changing the directory is :  C:\\Users\\steph\\ML\\Dom\\tfrec_images\n"
     ]
    }
   ],
   "source": [
    "os.chdir(r'C:\\Users\\steph\\ML\\Dom\\tfrec_images')\n",
    "changedDirectory = os.getcwd()\n",
    "print(\" The current working directory After changing the directory is : \", changedDirectory)"
   ]
  },
  {
   "cell_type": "code",
   "execution_count": 3,
   "id": "macro-triumph",
   "metadata": {},
   "outputs": [],
   "source": [
    "def _bytes_feature(value):\n",
    "  '''Returns a bytes_list from a string / byte'''\n",
    "  if isinstance(value, type(tf.constant(0))):\n",
    "    value = value.numpy() # BytesList won't unpack a string from an EagerTensor.\n",
    "  return tf.train.Feature(bytes_list=tf.train.BytesList(value=[value]))"
   ]
  },
  {
   "cell_type": "code",
   "execution_count": 4,
   "id": "sustainable-volunteer",
   "metadata": {},
   "outputs": [],
   "source": [
    "def _float_feature(value):\n",
    "  '''Returns a float_list from a float / double'''\n",
    "  return tf.train.Feature(float_list=tf.train.FloatList(value=[value]))"
   ]
  },
  {
   "cell_type": "code",
   "execution_count": 5,
   "id": "cultural-practitioner",
   "metadata": {},
   "outputs": [],
   "source": [
    "def _int64_feature(value):\n",
    "  ''' Returns an int64_list from a bool / enum / int / uint '''\n",
    "  return tf.train.Feature(int64_list=tf.train.Int64List(value=[value]))"
   ]
  },
  {
   "cell_type": "code",
   "execution_count": 6,
   "id": "brutal-adventure",
   "metadata": {},
   "outputs": [],
   "source": [
    "def _calc_num_shards(img_list, img_shard):\n",
    "  ''' calculate number of shards'''\n",
    "  last_shard =  len(img_list) % img_shard\n",
    "  if last_shard != 0:\n",
    "    num_shards =  (len(img_list) // img_shard) + 1\n",
    "  else:\n",
    "    num_shards =  (len(img_list) // img_shard)\n",
    "  return last_shard, num_shards"
   ]
  },
  {
   "cell_type": "code",
   "execution_count": 7,
   "id": "known-adjustment",
   "metadata": {},
   "outputs": [],
   "source": [
    "def _create_images_labels(label_file):\n",
    "  ''' create lists of image filenames and their labels '''  \n",
    "  linesList = label_file.readlines()\n",
    "  labels_list=[]\n",
    "  fileNames_list=[]\n",
    "  for line in linesList:\n",
    "    fileName, label = line.split()\n",
    "    labels_list.append(int(label.strip()))\n",
    "    fileNames_list.append(fileName.strip())\n",
    "  return labels_list, fileNames_list"
   ]
  },
  {
   "cell_type": "code",
   "execution_count": 8,
   "id": "comprehensive-growth",
   "metadata": {},
   "outputs": [],
   "source": [
    "def write_tfrec(tfrec_filename, image_dir, img_list, labels_list):\n",
    "  ''' write TFRecord file '''\n",
    "\n",
    "  with tf.io.TFRecordWriter(tfrec_filename) as writer:\n",
    "\n",
    "    for i in range(len(img_list)):\n",
    "      filePath = os.path.join(image_dir, img_list[i])\n",
    "\n",
    "      # read the JPEG source file into a tf string\n",
    "      image = tf.io.read_file(filePath)\n",
    "\n",
    "      # get the shape of the image from the JPEG file header\n",
    "      image_shape = tf.io.extract_jpeg_shape(image, output_type=tf.dtypes.int32, name=None)\n",
    "\n",
    "      # features dictionary\n",
    "      feature_dict = {\n",
    "        'label' : _int64_feature(int(label_list[i])),\n",
    "        'height': _int64_feature(image_shape[0]),\n",
    "        'width' : _int64_feature(image_shape[1]),\n",
    "        'chans' : _int64_feature(image_shape[2]),\n",
    "        'image' : _bytes_feature(image)\n",
    "      }\n",
    "\n",
    "      # Create Features object\n",
    "      features = tf.train.Features(feature = feature_dict)\n",
    "\n",
    "      # create Example object\n",
    "      tf_example = tf.train.Example(features=features)\n",
    "\n",
    "      # serialize Example object into TfRecord file\n",
    "      writer.write(tf_example.SerializeToString())\n",
    "\n",
    "  return\n"
   ]
  },
  {
   "cell_type": "code",
   "execution_count": 9,
   "id": "computational-hepatitis",
   "metadata": {},
   "outputs": [],
   "source": [
    "\n",
    "def make_tfrec(image_dir, img_shard, tfrec_base, label_file, num_images):\n",
    "\n",
    "  # make destination directory\n",
    "  #os.makedirs(tfrec_dir, exist_ok=True)\n",
    "  #print('Directory',tfrec_dir,'created',flush=True)\n",
    "\n",
    "  # make lists of images and their labels\n",
    "  all_labels, all_images = _create_images_labels(label_file)\n",
    "  print('Found',len(all_labels),'images and labels in',label_file)\n",
    "\n",
    "  if (num_images != 0 and num_images < len(all_images)):\n",
    "    all_images = all_images[:num_images]\n",
    "    all_labels = all_labels[:num_images]\n",
    "    print('Using',num_images,'images..')\n",
    "  else:\n",
    "    print('Using',len(all_labels),'images..')\n",
    "\n",
    "  # calculate how many shards we will generate and number of images in last shard\n",
    "  last_shard, num_shards = _calc_num_shards(all_images, img_shard)\n",
    "  print (num_shards,'TFRecord files will be created.')\n",
    "  if (last_shard>0):\n",
    "    print ('Last TFRecord file will have',last_shard,'images.')\n",
    "\n",
    "  # create TFRecord files (shards)\n",
    "  start = 0\n",
    "\n",
    "  for i in tqdm(range(num_shards)):\n",
    "\n",
    "    tfrec_filename = tfrec_base+'_'+str(i)+'.tfrecord'\n",
    "    write_path = os.path.join(tfrec_dir, tfrec_filename)\n",
    "\n",
    "    if (i == num_shards-1):\n",
    "      write_tfrec(write_path, image_dir, all_images[start:], all_labels[start:])\n",
    "    else:\n",
    "      end = start + img_shard\n",
    "      write_tfrec(write_path, image_dir, all_images[start:end], all_labels[start:end])\n",
    "      start = end\n",
    "\n",
    "  return\n",
    "\n",
    "\n",
    "\n"
   ]
  },
  {
   "cell_type": "code",
   "execution_count": 22,
   "id": "contemporary-problem",
   "metadata": {
    "scrolled": true
   },
   "outputs": [
    {
     "ename": "NameError",
     "evalue": "name 'file' is not defined",
     "output_type": "error",
     "traceback": [
      "\u001b[1;31m---------------------------------------------------------------------------\u001b[0m",
      "\u001b[1;31mNameError\u001b[0m                                 Traceback (most recent call last)",
      "\u001b[1;32m<ipython-input-22-77c5bc3ede6f>\u001b[0m in \u001b[0;36m<module>\u001b[1;34m\u001b[0m\n\u001b[1;32m----> 1\u001b[1;33m \u001b[0mfile\u001b[0m\u001b[1;33m.\u001b[0m\u001b[0mclose\u001b[0m\u001b[1;33m(\u001b[0m\u001b[1;33m)\u001b[0m\u001b[1;33m\u001b[0m\u001b[1;33m\u001b[0m\u001b[0m\n\u001b[0m\u001b[0;32m      2\u001b[0m \u001b[1;33m\u001b[0m\u001b[0m\n\u001b[0;32m      3\u001b[0m \u001b[0m_divider\u001b[0m \u001b[1;33m=\u001b[0m \u001b[1;34m'-------------------------------------'\u001b[0m\u001b[1;33m\u001b[0m\u001b[1;33m\u001b[0m\u001b[0m\n\u001b[0;32m      4\u001b[0m \u001b[1;33m\u001b[0m\u001b[0m\n\u001b[0;32m      5\u001b[0m \u001b[1;32mfor\u001b[0m \u001b[0mr\u001b[0m \u001b[1;32min\u001b[0m \u001b[0mrange\u001b[0m\u001b[1;33m(\u001b[0m\u001b[1;36m8\u001b[0m\u001b[1;33m)\u001b[0m\u001b[1;33m:\u001b[0m\u001b[1;33m\u001b[0m\u001b[1;33m\u001b[0m\u001b[0m\n",
      "\u001b[1;31mNameError\u001b[0m: name 'file' is not defined"
     ]
    }
   ],
   "source": [
    "\n",
    "file.close()\n",
    "\n",
    "_divider = '-------------------------------------'\n",
    "\n",
    "for r in range(8):\n",
    "    tfrec_base = rf'D:\\Dom\\tfrec_images\\core_stack{r}'\n",
    "    image_dir = rf'C:\\Users\\steph\\ML\\Dom\\tfrec_images\\core_stack{r}'\n",
    "    img_list = os.listdir(rf'C:\\Users\\steph\\ML\\Dom\\tfrec_images\\core_stack{r}')\n",
    "    img_shard = len(img_list)\n",
    "    num_images = len(img_list)\n",
    "\n",
    "    label_list = []\n",
    "    \n",
    "    for x in img_list:\n",
    "        label_split = os.path.splitext(x[:-5]+'.jpeg')\n",
    "        label_list_elem = label_split[0]\n",
    "        label_list.append(label_list_elem)\n",
    "    \n",
    "    if len(label_list) == len(img_list):\n",
    "        label_file = np.vstack((label_list,img_list))\n",
    "        print(label_file.shape)\n",
    "        \n",
    "        \n",
    "        file_path = rf'C:\\Users\\steph\\ML\\Dom\\tfrec_images\\core_stack{r}\\acc_files\\label_file.txt'\n",
    "        \n",
    "        print(file_path)\n",
    "        \n",
    "        directory = file_path\n",
    "        \n",
    "        if not os.path.isdir(directory):\n",
    "            os.mkdir(directory)\n",
    "        file = open(file_path, \"w\")\n",
    "    \n",
    "        for line in label_file:\n",
    "            file.write(line)\n",
    "            file.write('\\n')\n",
    "        file.close()\n",
    "        \n",
    "        make_tfrec(image_dir, img_shard, tfrec_base, label_file, num_images)\n",
    "        \n",
    "    \n",
    "    else: \n",
    "        print('label_list and img_list do not have same length')\n",
    "        print('len(label_list) = ',len(label_list))\n",
    "        print('len(img_list) = ',len(img_list))\n",
    "        break\n",
    "    \n",
    "    "
   ]
  },
  {
   "cell_type": "code",
   "execution_count": 1,
   "id": "auburn-hierarchy",
   "metadata": {},
   "outputs": [
    {
     "name": "stdout",
     "output_type": "stream",
     "text": [
      "Changed mode successfully!!\n"
     ]
    },
    {
     "ename": "PermissionError",
     "evalue": "[Errno 13] Permission denied: 'C:\\\\Users\\\\steph\\\\ML\\\\Dom\\\\tfrec_images\\\\core_stack0\\\\acc_files\\\\label_file.txt'",
     "output_type": "error",
     "traceback": [
      "\u001b[1;31m---------------------------------------------------------------------------\u001b[0m",
      "\u001b[1;31mPermissionError\u001b[0m                           Traceback (most recent call last)",
      "\u001b[1;32m<ipython-input-1-e6a03b0e4d24>\u001b[0m in \u001b[0;36m<module>\u001b[1;34m\u001b[0m\n\u001b[0;32m      8\u001b[0m \u001b[0mprint\u001b[0m \u001b[1;33m(\u001b[0m\u001b[1;34m\"Changed mode successfully!!\"\u001b[0m\u001b[1;33m)\u001b[0m\u001b[1;33m\u001b[0m\u001b[1;33m\u001b[0m\u001b[0m\n\u001b[0;32m      9\u001b[0m \u001b[0mfile_path\u001b[0m \u001b[1;33m=\u001b[0m \u001b[1;34mrf'C:\\Users\\steph\\ML\\Dom\\tfrec_images\\core_stack{r}\\acc_files\\label_file.txt'\u001b[0m\u001b[1;33m\u001b[0m\u001b[1;33m\u001b[0m\u001b[0m\n\u001b[1;32m---> 10\u001b[1;33m \u001b[0mfile\u001b[0m \u001b[1;33m=\u001b[0m \u001b[0mopen\u001b[0m\u001b[1;33m(\u001b[0m\u001b[0mfile_path\u001b[0m\u001b[1;33m,\u001b[0m \u001b[1;34m\"w\"\u001b[0m\u001b[1;33m)\u001b[0m\u001b[1;33m\u001b[0m\u001b[1;33m\u001b[0m\u001b[0m\n\u001b[0m\u001b[0;32m     11\u001b[0m \u001b[0mfile\u001b[0m\u001b[1;33m.\u001b[0m\u001b[0mclose\u001b[0m\u001b[1;33m(\u001b[0m\u001b[1;33m)\u001b[0m\u001b[1;33m\u001b[0m\u001b[1;33m\u001b[0m\u001b[0m\n",
      "\u001b[1;31mPermissionError\u001b[0m: [Errno 13] Permission denied: 'C:\\\\Users\\\\steph\\\\ML\\\\Dom\\\\tfrec_images\\\\core_stack0\\\\acc_files\\\\label_file.txt'"
     ]
    }
   ],
   "source": [
    "#!/usr/bin/python\n",
    "\n",
    "import os, sys, stat\n",
    "r=0\n",
    "# label_file.txt exists at the path below\n",
    "os.chmod(rf'C:\\Users\\steph\\ML\\Dom\\tfrec_images\\core_stack{r}\\acc_files\\label_file.txt', stat.S_IRWXU)\n",
    "\n",
    "print (\"Changed mode successfully!!\")\n",
    "file_path = rf'C:\\Users\\steph\\ML\\Dom\\tfrec_images\\core_stack{r}\\acc_files\\label_file.txt'\n",
    "file = open(file_path, \"w\")\n",
    "file.close()"
   ]
  },
  {
   "cell_type": "code",
   "execution_count": null,
   "id": "portable-victor",
   "metadata": {},
   "outputs": [],
   "source": [
    "from pathlib import Path\n",
    "my_file = Path(rf'C:\\Users\\steph\\ML\\Dom\\tfrec_images\\core_stack{r}\\acc_files\\label_file.txt')\n",
    "Path(\"out.txt\").open(\"w\")"
   ]
  },
  {
   "cell_type": "code",
   "execution_count": null,
   "id": "another-knight",
   "metadata": {
    "scrolled": true
   },
   "outputs": [],
   "source": [
    "type(label_file)\n",
    "print(label_file)"
   ]
  },
  {
   "cell_type": "code",
   "execution_count": null,
   "id": "initial-adventure",
   "metadata": {
    "scrolled": true
   },
   "outputs": [],
   "source": [
    "r = 0\n",
    "directory = os.getcwd()\n",
    "print(directory)\n",
    "filename = os.path.join(r'C:',os.sep, 'Users',os.sep, 'steph',os.sep,\n",
    "                    'ML',os.sep, 'Dom',os.sep, 'tfrec_images',os.sep, f'core_stack{r}',\n",
    "                    os.sep, 'label_file.txt')\n",
    "print(filename)\n",
    "label_file = np.array(label_file)\n",
    "MyFile=open(os.path.join(directory,f'core_stack{r}','acc_files','label_file' + '.txt'),'w')\n",
    "for x in label_file:\n",
    "    p = str(x)\n",
    "    MyFile.write(p)\n",
    "    MyFile.write('\\n')"
   ]
  },
  {
   "cell_type": "code",
   "execution_count": null,
   "id": "abstract-sample",
   "metadata": {
    "scrolled": true
   },
   "outputs": [],
   "source": [
    "r=0\n",
    "\n",
    "path = os.path.join(r'C:',os.sep, 'Users',os.sep, 'steph',os.sep,\n",
    "                    'ML',os.sep, 'Dom',os.sep, 'tfrec_images',os.sep, f'core_stack{r}',\n",
    "                    os.sep, 'label_file.txt')\n",
    "\n",
    "directory = os.getcwd()\n",
    "    filename = os.path.join(directory, 'label_file' + '.txt')\n",
    "  print('Writing', filename)\n",
    "  writer = tf.io.Writer(filename)\n",
    "  for index in range(num_examples):\n",
    "    image_raw = images[index].tostring()\n",
    "    example = tf.train.Example(features=tf.train.Features(feature={\n",
    "        'height': _int64_feature(rows),\n",
    "        'width': _int64_feature(cols),\n",
    "        'depth': _int64_feature(depth),\n",
    "        'label': _int64_feature(int(labels[index])),\n",
    "        'image_raw': _bytes_feature(image_raw)}))\n",
    "    writer.write(example.SerializeToString())\n",
    "    \n",
    "\n",
    "        \n",
    "#make_tfrec(image_dir, img_shard, tfrec_base, label_file, num_images)"
   ]
  },
  {
   "cell_type": "code",
   "execution_count": null,
   "id": "occupational-effort",
   "metadata": {
    "scrolled": true
   },
   "outputs": [],
   "source": [
    "make_tfrec(image_dir, img_shard, tfrec_base, label_file, num_images)"
   ]
  },
  {
   "cell_type": "code",
   "execution_count": null,
   "id": "french-military",
   "metadata": {},
   "outputs": [],
   "source": []
  }
 ],
 "metadata": {
  "kernelspec": {
   "display_name": "Python 3",
   "language": "python",
   "name": "python3"
  },
  "language_info": {
   "codemirror_mode": {
    "name": "ipython",
    "version": 3
   },
   "file_extension": ".py",
   "mimetype": "text/x-python",
   "name": "python",
   "nbconvert_exporter": "python",
   "pygments_lexer": "ipython3",
   "version": "3.8.7"
  }
 },
 "nbformat": 4,
 "nbformat_minor": 5
}
